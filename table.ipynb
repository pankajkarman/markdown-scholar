{
 "cells": [
  {
   "cell_type": "code",
   "execution_count": 1,
   "metadata": {},
   "outputs": [],
   "source": [
    "import pandas as pd\n",
    "import pandoc "
   ]
  },
  {
   "cell_type": "code",
   "execution_count": 2,
   "metadata": {},
   "outputs": [
    {
     "name": "stdout",
     "output_type": "stream",
     "text": [
      "|Stations|Latitude|Longitude|Altitude| Period  |\n",
      "|--------|-------:|--------:|-------:|---------|\n",
      "|marb    |  -64.24|   -56.62|     198|2011-2015|\n",
      "|mcmu    |  -77.82|   166.58|      11|1986-1992|\n",
      "|arht    |  -77.80|   166.67|     184|1996-2015|\n",
      "|neum    |  -70.65|    -8.25|      42|1982-2014|\n",
      "|spol    |  -89.98|   -24.80|    2810|1975-2015|\n",
      "|syow    |  -69.00|    39.58|      16|1997-2015|\n"
     ]
    }
   ],
   "source": [
    "df = pd.read_csv('/home/pankaj/phd/tropo/antarctic/paper/tables/surf.stn.md', sep='\\s+')\n",
    "tab = pandoc.Table(df)\n",
    "tab.to_markdown('table.md')\n",
    "tab.writer.write_table()"
   ]
  }
 ],
 "metadata": {
  "kernelspec": {
   "display_name": "Python 2",
   "language": "python",
   "name": "python2"
  },
  "language_info": {
   "codemirror_mode": {
    "name": "ipython",
    "version": 2
   },
   "file_extension": ".py",
   "mimetype": "text/x-python",
   "name": "python",
   "nbconvert_exporter": "python",
   "pygments_lexer": "ipython2",
   "version": "2.7.15"
  }
 },
 "nbformat": 4,
 "nbformat_minor": 2
}
